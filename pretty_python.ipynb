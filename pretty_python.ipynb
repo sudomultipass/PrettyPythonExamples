{
 "cells": [
  {
   "cell_type": "markdown",
   "metadata": {},
   "source": [
    "# Pretty Python\n",
    "\n",
    "Examples taken from __[Transforming Code into Beautiful, Idiomatic Python](https://www.youtube.com/watch?v=OSGv2VnC0go)__"
   ]
  },
  {
   "cell_type": "markdown",
   "metadata": {},
   "source": [
    "## Contents:\n",
    "1. [Looping](#Looping)\n",
    ">- [A range of numbers (range)](#loopingRangeNumbers)\n",
    ">- [A List](#loopingList)\n",
    ">- [A List backwards (reversed)](#loopingListBackwards)\n",
    ">- [A list with indicies (enumerate)](#loopingListIndicies)\n",
    ">- [Two lists (zip)](#loopingListsZip)\n",
    ">- [Sorted list (sorted) and reversed (reverse=True)](#loopingListSorted)\n",
    ">- [Custom sort orders (key)](#loopingListCustomSort)\n",
    ">- [While loops with a sentinel value (iter)](#loopingSentinel)\n",
    ">- [Multiple exits from for loops (else)](#loopingMultExits)\n",
    "\n",
    "2. [Dictionaries](#Dictionaries)\n",
    ">- [Looping (keys, values)](#loopingOverDicts)\n",
    ">- [Looping and mutating (keys, list)](#loopingOverDictsMutate)\n",
    ">- [More looping (items, list)](#loopingOverDictsMore)\n",
    ">- [Constructing dictionaries from pairs of lists (zip)](#dictsZip)\n",
    ">- [Constructing dictionaries with indicies as keys (enumerate)](#dictsEnum)\n",
    ">- [Counting with dictionaries (defaultdict)](#dictsCount)\n",
    ">- [Grouping with dictionaries (defaultdict)](#dictsGroup)"
   ]
  },
  {
   "cell_type": "markdown",
   "metadata": {},
   "source": [
    "# Looping: <a id=\"Looping\"></a>\n",
    "### Looping over a range of numbers  <a id=\"loopingRangeNumbers\"></a>"
   ]
  },
  {
   "cell_type": "code",
   "execution_count": 90,
   "metadata": {},
   "outputs": [
    {
     "name": "stdout",
     "output_type": "stream",
     "text": [
      "0\n",
      "1\n",
      "4\n",
      "9\n",
      "16\n",
      "25\n",
      "0\n",
      "1\n",
      "4\n",
      "9\n",
      "16\n",
      "25\n"
     ]
    }
   ],
   "source": [
    "'''\n",
    "Looping over a range of numbers\n",
    "xrange == range in python 3\n",
    "'''\n",
    "\n",
    "for i in [0,1,2,3,4,5]:\n",
    "    print(i**2)\n",
    "    \n",
    "# USE THIS INSTEAD:\n",
    "\n",
    "for i in range(6):\n",
    "    print(i**2)\n",
    "    \n",
    "# BUT THIS CONSUMES LOTS OF MEMORY, SO USE ITERATORS with XRANGE\n",
    "# xrange() is in Python 2.7 and below...\n",
    "# range() == xrange() in Python 3.x.x^"
   ]
  },
  {
   "cell_type": "markdown",
   "metadata": {},
   "source": [
    "### Looping over a list  <a id=\"loopingList\"></a>"
   ]
  },
  {
   "cell_type": "code",
   "execution_count": 88,
   "metadata": {},
   "outputs": [
    {
     "name": "stdout",
     "output_type": "stream",
     "text": [
      "red\n",
      "green\n",
      "blue\n",
      "yellow\n",
      "red\n",
      "green\n",
      "blue\n",
      "yellow\n"
     ]
    }
   ],
   "source": [
    "'''\n",
    "Looping over a collection (list)\n",
    "'''\n",
    "\n",
    "colors = ['red', 'green', 'blue', 'yellow']\n",
    "\n",
    "# Old way - Not easy to read...\n",
    "for i in range(len(colors)):\n",
    "    print(colors[i])\n",
    "    \n",
    "# BETTER WAY:\n",
    "for color in colors:\n",
    "    print(color)"
   ]
  },
  {
   "cell_type": "markdown",
   "metadata": {},
   "source": [
    "### Looping over a list backwards <a id=\"loopingListBackwards\"></a>"
   ]
  },
  {
   "cell_type": "code",
   "execution_count": 7,
   "metadata": {
    "scrolled": true
   },
   "outputs": [
    {
     "name": "stdout",
     "output_type": "stream",
     "text": [
      "yellow\n",
      "blue\n",
      "green\n",
      "red\n",
      "yellow\n",
      "blue\n",
      "green\n",
      "red\n"
     ]
    }
   ],
   "source": [
    "'''\n",
    "Looping Backwards\n",
    "'''\n",
    "colors = ['red', 'green', 'blue', 'yellow']\n",
    "# C++ WAY:\n",
    "for i in range(len(colors)-1, -1, -1):\n",
    "    print(colors[i])\n",
    "\n",
    "# BETTER FASTER NEWER WAY:\n",
    "for color in reversed(colors):\n",
    "    print(color)"
   ]
  },
  {
   "cell_type": "markdown",
   "metadata": {},
   "source": [
    "### Looping over a list and indicies <a id=\"loopingListIndicies\"></a>"
   ]
  },
  {
   "cell_type": "code",
   "execution_count": 8,
   "metadata": {},
   "outputs": [
    {
     "name": "stdout",
     "output_type": "stream",
     "text": [
      "0 --> red\n",
      "1 --> green\n",
      "2 --> blue\n",
      "3 --> yellow\n",
      "0 --> red\n",
      "1 --> green\n",
      "2 --> blue\n",
      "3 --> yellow\n"
     ]
    }
   ],
   "source": [
    "'''\n",
    "Looping over a collection and indices at the same time\n",
    "'''\n",
    "colors = ['red', 'green', 'blue', 'yellow']### Looping over a list backwards <a id=\"loopingListBackwards\"></a>\n",
    "# C++ WAY:\n",
    "for i in range(len(colors)):\n",
    "    print(i, '-->', colors[i])\n",
    "    \n",
    "# BETTER WAY: Enumerate attaches index as i\n",
    "for i, color in enumerate(colors):\n",
    "    print(i, '-->', color)"
   ]
  },
  {
   "cell_type": "markdown",
   "metadata": {},
   "source": [
    "### Looping over a two lists (zip) <a id=\"loopingListsZip\"></a>"
   ]
  },
  {
   "cell_type": "code",
   "execution_count": 85,
   "metadata": {},
   "outputs": [
    {
     "name": "stdout",
     "output_type": "stream",
     "text": [
      "raymond --> red\n",
      "rachel --> green\n",
      "matthew --> blue\n",
      "raymond --> red\n",
      "rachel --> green\n",
      "matthew --> blue\n"
     ]
    }
   ],
   "source": [
    "'''\n",
    "Looping over two collections\n",
    "'''\n",
    "\n",
    "### Looping over a list and indicies <a id=\"loopingListIndicies\"></a>\n",
    "colors = ['red', 'green', 'blue', 'yellow']\n",
    "\n",
    "# C++ Way:\n",
    "n = min(len(names), len(colors)) # find the smaller of the two lists\n",
    "for i in range(n):\n",
    "    print(names[i], '-->', colors[i])\n",
    "    \n",
    "# Better way... in python 3 uses iterators\n",
    "# With modern processors - scaling becomes a 1 question thing:\n",
    "# Is the process running entirely in L1 Cache?\n",
    "for name, color in zip(names, colors): # Uses memory\n",
    "    print(name, '-->', color)\n"
   ]
  },
  {
   "cell_type": "markdown",
   "metadata": {},
   "source": [
    "### Looping over a list in sorted order <a id=\"loopingListSorted\"></a>"
   ]
  },
  {
   "cell_type": "code",
   "execution_count": 10,
   "metadata": {},
   "outputs": [
    {
     "name": "stdout",
     "output_type": "stream",
     "text": [
      "blue\n",
      "green\n",
      "red\n",
      "yellow\n",
      "yellow\n",
      "red\n",
      "green\n",
      "blue\n"
     ]
    }
   ],
   "source": [
    "'''\n",
    "Looping in sorted order\n",
    "'''\n",
    "\n",
    "colors = ['red', 'green', 'blue', 'yellow']\n",
    "\n",
    "# Sorted\n",
    "for color in sorted(colors):\n",
    "    print(color)\n",
    "    \n",
    "# Looping backwards\n",
    "for color in sorted(colors, reverse=True):\n",
    "    print(color)"
   ]
  },
  {
   "cell_type": "markdown",
   "metadata": {},
   "source": [
    "### Custom sort orders (key) <a id=\"loopingListCustomSort\"></a>"
   ]
  },
  {
   "cell_type": "code",
   "execution_count": 11,
   "metadata": {},
   "outputs": [
    {
     "name": "stdout",
     "output_type": "stream",
     "text": [
      "['red', 'blue', 'green', 'yellow']\n"
     ]
    }
   ],
   "source": [
    "'''\n",
    "Custom sort order\n",
    "'''\n",
    "\n",
    "colors = ['red', 'green', 'blue', 'yellow']\n",
    "\n",
    "''' OLD WAY: COMPARISON FUNCTIONS\n",
    "from functools import cmp_to_key\n",
    "def compare_length(c1, c2):\n",
    "    if len(c1) < len(c2) : return -1\n",
    "    if len(c1) > len(c2) : return 1\n",
    "    return 0\n",
    "'''\n",
    "### Looping over a list in sorted order <a id=\"loopingListSorted\"></a>\n",
    "# NEW BETTER WAY:\n",
    "print(sorted(colors, key=len))"
   ]
  },
  {
   "cell_type": "markdown",
   "metadata": {},
   "source": [
    "### While loops with a sentinel value <a id=\"loopingSentinel\"></a>"
   ]
  },
  {
   "cell_type": "code",
   "execution_count": 94,
   "metadata": {},
   "outputs": [
    {
     "name": "stdout",
     "output_type": "stream",
     "text": [
      "[]\n"
     ]
    }
   ],
   "source": [
    "'''\n",
    "Calling a function until a sentinel value\n",
    "'''\n",
    "\n",
    "import functools\n",
    "# f == [some file]\n",
    "f = open(\"some_file\", \"w+\")\n",
    "\n",
    "blocks = []\n",
    "while True:\n",
    "    block = f.read(32)\n",
    "    if block == '':\n",
    "        break\n",
    "    blocks.append(block)\n",
    "    \n",
    "# BETTER WAY: iter() function takes 2 args:\n",
    "# 1. function you call over and over again\n",
    "# 2. sentinel value\n",
    "# NOTE: As soon as something is iterable, you can feed that thing\n",
    "# to sorted, min, max, heapq, etc...\n",
    "blocks = []\n",
    "for block in iter(functools.partial(f.read, 32), ''):\n",
    "    blocks.append(block)\n",
    "    \n",
    "print(blocks)\n"
   ]
  },
  {
   "cell_type": "markdown",
   "metadata": {},
   "source": [
    "### Distinguishing multiple exit points in for loops (else) <a id=\"loopingMultExits\"></a>"
   ]
  },
  {
   "cell_type": "code",
   "execution_count": 21,
   "metadata": {},
   "outputs": [
    {
     "data": {
      "text/plain": [
       "3"
      ]
     },
     "execution_count": 21,
     "metadata": {},
     "output_type": "execute_result"
    }
   ],
   "source": [
    "'''\n",
    "Distinguishing multiple exit points in for loops\n",
    "'''\n",
    "\n",
    "# Written with a 'found' boolean\n",
    "def find(seq, target):\n",
    "    found = False\n",
    "    for i, value in enumerate(seq):\n",
    "        if value == target:\n",
    "            found = True\n",
    "            break\n",
    "    if not found:\n",
    "        return -1\n",
    "    return i\n",
    "\n",
    "# FOR loops in Python have an else,\n",
    "# so you don't need the found bool:\n",
    "def find(seq, target):\n",
    "    for i, value in enumerate(seq):\n",
    "        if value == target:\n",
    "            break\n",
    "    else:\n",
    "        return -1\n",
    "    return i\n",
    "\n",
    "find(colors, 'yellow')"
   ]
  },
  {
   "cell_type": "markdown",
   "metadata": {},
   "source": [
    "# Dictionaries: <a id=\"Dictionaries\"></a>\n",
    "### Looping over dictionaries <a id = \"loopingOverDicts\"></a>"
   ]
  },
  {
   "cell_type": "code",
   "execution_count": 61,
   "metadata": {},
   "outputs": [
    {
     "name": "stdout",
     "output_type": "stream",
     "text": [
      "matthew\n",
      "rachel\n",
      "raymond\n",
      "\n",
      "blue\n",
      "green\n",
      "red\n",
      "\n",
      "('matthew', 'blue')\n",
      "('rachel', 'green')\n",
      "('raymond', 'red')\n"
     ]
    }
   ],
   "source": [
    "d = {'matthew': 'blue', 'rachel': 'green', 'raymond': 'red'}\n",
    "\n",
    "'''\n",
    "Dictionary == a set of {key: value} pairs. \n",
    "'''\n",
    "\n",
    "# Loop over dictionary keys\n",
    "for k in d:\n",
    "    print(k)\n",
    "print()\n",
    "\n",
    "\n",
    "# Loop over dictionary values\n",
    "for k in d.values():\n",
    "    print(k)\n",
    "print()\n",
    "\n",
    "# Loop over dictionary items as tuples (key:value)\n",
    "for k in d.items():\n",
    "    print(k)"
   ]
  },
  {
   "cell_type": "markdown",
   "metadata": {},
   "source": [
    "### Looping over dictionaries and mutating <a id = \"loopingOverDictsMutate\"></a>"
   ]
  },
  {
   "cell_type": "code",
   "execution_count": 62,
   "metadata": {},
   "outputs": [
    {
     "name": "stdout",
     "output_type": "stream",
     "text": [
      "{'matthew': 'blue'}\n"
     ]
    }
   ],
   "source": [
    "'''\n",
    "Loop over dictionary keys and mutate\n",
    "Since d.keys() returns an iterator, we shouldn't mutate\n",
    "while it is being iterated over.\n",
    "Instead, make a copy of the keys to a list with list(d.keys()) first.\n",
    "'''\n",
    "\n",
    "for k in list(d.keys()):\n",
    "    if k.startswith('r'):\n",
    "        del d[k]\n",
    "\n",
    "print(d)"
   ]
  },
  {
   "cell_type": "markdown",
   "metadata": {},
   "source": [
    "### More looping over dictionaries (items, list) <a id = \"loopingOverDictsMore\"></a>"
   ]
  },
  {
   "cell_type": "code",
   "execution_count": 63,
   "metadata": {},
   "outputs": [
    {
     "name": "stdout",
     "output_type": "stream",
     "text": [
      "matthew --> blue\n",
      "rachel --> green\n",
      "raymond --> red\n",
      "[('matthew', 'blue'), ('rachel', 'green'), ('raymond', 'red')]\n"
     ]
    }
   ],
   "source": [
    "d = {'matthew': 'blue', 'rachel': 'green', 'raymond': 'red'}\n",
    "\n",
    "'''\n",
    "More looping over dictionaries\n",
    "'''\n",
    "\n",
    "# If you need access to both the keys and values separately\n",
    "# while looping:\n",
    "for k, v in d.items():\n",
    "    print(k, '-->', v)\n",
    "    \n",
    "# TO receive a list of tuples of each key:value pair in the dict:\n",
    "print(list(d.items()))"
   ]
  },
  {
   "cell_type": "markdown",
   "metadata": {},
   "source": [
    "### Constructing a dict from a pair of lists (zip) <a id = \"dictsZip\"></a>"
   ]
  },
  {
   "cell_type": "code",
   "execution_count": 64,
   "metadata": {},
   "outputs": [
    {
     "name": "stdout",
     "output_type": "stream",
     "text": [
      "{'red': 'raymond', 'green': 'rachel', 'blue': 'matthew'}\n"
     ]
    }
   ],
   "source": [
    "'''\n",
    "Constructing a dictionary from pairs of lists\n",
    "'''\n",
    "\n",
    "colors = ['red', 'green', 'blue', 'yellow']\n",
    "\n",
    "d = dict(zip(colors, names))\n",
    "print(d)"
   ]
  },
  {
   "cell_type": "markdown",
   "metadata": {},
   "source": [
    "### Constructing a dict from a list with indicies (enumerate) <a id = \"dictsEnum\"></a>"
   ]
  },
  {
   "cell_type": "code",
   "execution_count": 86,
   "metadata": {},
   "outputs": [
    {
     "name": "stdout",
     "output_type": "stream",
     "text": [
      "{0: 'raymond', 1: 'rachel', 2: 'matthew'}\n"
     ]
    }
   ],
   "source": [
    "'''\n",
    "Constructing a dictionary from a list with enumeration\n",
    "'''\n",
    "\n",
    "names = ['raymond', 'rachel', 'matthew']\n",
    "\n",
    "d = dict(enumerate(names))\n",
    "print(d)"
   ]
  },
  {
   "cell_type": "markdown",
   "metadata": {},
   "source": [
    "### Counting with dictionaries <a id = \"dictsCount\"></a>"
   ]
  },
  {
   "cell_type": "code",
   "execution_count": 95,
   "metadata": {},
   "outputs": [
    {
     "name": "stdout",
     "output_type": "stream",
     "text": [
      "{'red': 3, 'green': 2, 'blue': 1}\n",
      "{'red': 3, 'green': 2, 'blue': 1}\n",
      "defaultdict(<class 'int'>, {'red': 3, 'green': 2, 'blue': 1})\n"
     ]
    }
   ],
   "source": [
    "'''\n",
    "Counting with dictionaries\n",
    "'''\n",
    "\n",
    "newColors = ['red', 'green', 'red', 'blue', 'green', 'red']\n",
    "\n",
    "# FIRST WAY TO COUNT WITH DICTIONARIES:\n",
    "d = {}\n",
    "for color in newColors:\n",
    "    if color not in d:\n",
    "        d[color] = 0\n",
    "    d[color] += 1\n",
    "\n",
    "print(d)\n",
    "\n",
    "# USING GET:\n",
    "d = {}\n",
    "for color in newColors:\n",
    "    d[color] = d.get(color, 0) + 1\n",
    "\n",
    "print(d)\n",
    "\n",
    "# BEST NEW WAY WITH DEFAULT DICT\n",
    "from collections import defaultdict\n",
    "d = defaultdict(int) # creates a dictionary where if a lookup fails, creates an entry with default value type\n",
    "for color in newColors:\n",
    "    d[color] += 1\n",
    "    \n",
    "print(d)\n",
    "\n",
    "# CAN ALSO USE COLLECTIONS.COUNTER"
   ]
  },
  {
   "cell_type": "markdown",
   "metadata": {},
   "source": [
    "### Grouping with dictionaries <a id = \"dictsGroup\"></a>"
   ]
  },
  {
   "cell_type": "code",
   "execution_count": 96,
   "metadata": {},
   "outputs": [
    {
     "name": "stdout",
     "output_type": "stream",
     "text": [
      "{7: ['raymond', 'matthew', 'melissa', 'charlie'], 6: ['rachel', 'judith'], 5: ['roger', 'betty']}\n",
      "{'r': ['raymond', 'rachel', 'roger'], 'm': ['matthew', 'melissa'], 'b': ['betty'], 'j': ['judith'], 'c': ['charlie']}\n",
      "defaultdict(<class 'list'>, {7: ['raymond', 'matthew', 'melissa', 'charlie'], 6: ['rachel', 'judith'], 5: ['roger', 'betty']})\n"
     ]
    }
   ],
   "source": [
    "'''\n",
    "Grouping with dictionaries\n",
    "'''\n",
    "names = ['raymond', 'rachel', 'matthew', 'roger', 'betty', 'melissa', 'judith', 'charlie']\n",
    "\n",
    "# Group by name length\n",
    "# Returns a dict of {nameLength: [name, name, ...]}\n",
    "d = {}\n",
    "for name in names:\n",
    "    key = len(name)\n",
    "    if key not in d:\n",
    "        d[key] = []\n",
    "    d[key].append(name)\n",
    "\n",
    "print(d)\n",
    "\n",
    "# If grouping by anything else, only need to change key line\n",
    "# Grouping by first letter:\n",
    "d = {}\n",
    "for name in names:\n",
    "    key = name[0]\n",
    "    if key not in d:\n",
    "        d[key] = []\n",
    "    d[key].append(name)\n",
    "\n",
    "print(d)\n",
    "\n",
    "# MODERN WAY (same as first example)\n",
    "from collections import defaultdict\n",
    "d = defaultdict(list)\n",
    "for name in names:\n",
    "    key = len(name)\n",
    "    d[key].append(name)\n",
    "\n",
    "print(d)"
   ]
  }
 ],
 "metadata": {
  "kernelspec": {
   "display_name": "Python 3",
   "language": "python",
   "name": "python3"
  },
  "language_info": {
   "codemirror_mode": {
    "name": "ipython",
    "version": 3
   },
   "file_extension": ".py",
   "mimetype": "text/x-python",
   "name": "python",
   "nbconvert_exporter": "python",
   "pygments_lexer": "ipython3",
   "version": "3.6.4"
  }
 },
 "nbformat": 4,
 "nbformat_minor": 2
}
